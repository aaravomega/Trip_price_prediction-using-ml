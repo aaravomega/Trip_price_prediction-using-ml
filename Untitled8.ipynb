{
  "nbformat": 4,
  "nbformat_minor": 0,
  "metadata": {
    "colab": {
      "provenance": [],
      "authorship_tag": "ABX9TyNeROa0h2ZtCgP8IolxGz4D",
      "include_colab_link": true
    },
    "kernelspec": {
      "name": "python3",
      "display_name": "Python 3"
    },
    "language_info": {
      "name": "python"
    }
  },
  "cells": [
    {
      "cell_type": "markdown",
      "metadata": {
        "id": "view-in-github",
        "colab_type": "text"
      },
      "source": [
        "<a href=\"https://colab.research.google.com/github/aaravomega/Trip_price_prediction-using-ml/blob/main/Untitled8.ipynb\" target=\"_parent\"><img src=\"https://colab.research.google.com/assets/colab-badge.svg\" alt=\"Open In Colab\"/></a>"
      ]
    },
    {
      "cell_type": "code",
      "execution_count": 72,
      "metadata": {
        "id": "ZTZuuAcNPfvx"
      },
      "outputs": [],
      "source": [
        "import matplotlib.pyplot as plt\n",
        "import pandas as pd\n",
        "import pylab as pl\n",
        "import numpy as np\n",
        "%matplotlib inline\n",
        "from sklearn import linear_model\n",
        "from sklearn.ensemble import RandomForestRegressor\n",
        "import statsmodels.api as sm\n",
        "import pandas as pd\n",
        "from sklearn.model_selection import train_test_split\n",
        "from sklearn.metrics import mean_squared_error\n",
        "import warnings\n",
        "warnings.filterwarnings(\"ignore\")"
      ]
    },
    {
      "cell_type": "code",
      "source": [
        "df = pd.read_csv(\"/content/Clean_Dataset.csv\")\n",
        "Bangalore = pd.read_csv(\"/content/bangalore.csv\")\n",
        "Chennai = pd.read_csv(\"/content/chennai.csv\")\n",
        "Delhi = pd.read_csv(\"/content/delhi.csv\")\n",
        "Hyderabad = pd.read_csv(\"/content/hyderabad.csv\")\n",
        "Kolkata = pd.read_csv(\"/content/kolkata.csv\")\n",
        "Mumbai = pd.read_csv(\"/content/mumbai.csv\")\n",
        "cabfare = pd.read_csv(\"/content/cabprice.csv\")\n",
        "print(\"number of rows and columns in the flight dataset\",df.shape)"
      ],
      "metadata": {
        "id": "i6aMYmm_RDtj",
        "colab": {
          "base_uri": "https://localhost:8080/"
        },
        "outputId": "4f3cdd9f-e066-4a71-c623-657c7d1e01a0"
      },
      "execution_count": 73,
      "outputs": [
        {
          "output_type": "stream",
          "name": "stdout",
          "text": [
            "number of rows and columns in the flight dataset (300153, 12)\n"
          ]
        }
      ]
    },
    {
      "cell_type": "code",
      "source": [
        "#Extracting relevant rows\n",
        "df = df[df['stops'] == 'zero']\n",
        "df = df[df['class'] == 'Economy']\n",
        "\n",
        "df.reset_index(drop=True, inplace=True)\n",
        "cdf = df[['source_city','departure_time','arrival_time','destination_city','days_left','price']]"
      ],
      "metadata": {
        "id": "xa-iP2VUSOoS"
      },
      "execution_count": 74,
      "outputs": []
    },
    {
      "cell_type": "code",
      "source": [
        "#Creating a dataframe for each unique trip\n",
        "unique_combinations = df[['source_city', 'destination_city']].drop_duplicates()\n",
        "\n",
        "trip_dataframes = {}\n",
        "\n",
        "for index, row in unique_combinations.iterrows():\n",
        "    source_city = row['source_city']\n",
        "    destination_city = row['destination_city']\n",
        "\n",
        "    trip_df = df[(df['source_city'] == source_city) & (df['destination_city'] == destination_city)].copy()\n",
        "\n",
        "    trip_df.reset_index(drop=True, inplace=True)\n",
        "\n",
        "    trip_key = f\"{source_city}_to_{destination_city}\"\n",
        "    trip_dataframes[trip_key] = trip_df\n",
        "\n",
        "# trip_delhi_to_mumbai = trip_dataframes['Delhi_to_Mumbai']"
      ],
      "metadata": {
        "id": "JnP3A1pxTqhP"
      },
      "execution_count": 75,
      "outputs": []
    },
    {
      "cell_type": "code",
      "source": [
        "#inputs from user\n",
        "\n",
        "source_city_input = input(\"Enter the source city: \").lower().capitalize()\n",
        "destination_city_input = input(\"Enter the destination city: \").lower().capitalize()\n",
        "days_left_input = input(\"Enter the number of days till the start date of your trip:\")\n",
        "rating_input = float(input(\"Enter the number of stars you want your hotel to be:\"))\n",
        "star_rating_input = float(input(\"Enter the minimum user rating you want your hotel to have(0-5):\"))\n",
        "lengthoftrip_input = float(input(\"Enter the number of days the trip will last for:\"))"
      ],
      "metadata": {
        "colab": {
          "base_uri": "https://localhost:8080/"
        },
        "id": "pPE1weqS72i4",
        "outputId": "2537f1ef-76d0-4bcd-ae43-14be5312d489"
      },
      "execution_count": 76,
      "outputs": [
        {
          "name": "stdout",
          "output_type": "stream",
          "text": [
            "Enter the source city: Bangalore\n",
            "Enter the destination city: Delhi\n",
            "Enter the number of days till the start date of your trip:12\n",
            "Enter the number of stars you want your hotel to be:3\n",
            "Enter the minimum user rating you want your hotel to have(0-5):4\n",
            "Enter the number of days the trip will last for:3\n"
          ]
        }
      ]
    },
    {
      "cell_type": "code",
      "source": [
        "trip_key_input = f\"{source_city_input}_to_{destination_city_input}\"\n",
        "\n",
        "if trip_key_input in trip_dataframes:\n",
        "    print(trip_dataframes[trip_key_input])\n",
        "    ccdf = trip_dataframes[trip_key_input]\n",
        "    msk = np.random.rand(len(ccdf)) < 0.8\n",
        "    train = ccdf[msk]\n",
        "    test = ccdf[~msk]\n",
        "\n",
        "    regr = RandomForestRegressor()\n",
        "\n",
        "    # Train the model\n",
        "    train_x = np.asanyarray(train[['days_left']])\n",
        "    train_y = np.asanyarray(train[['price']])\n",
        "    regr.fit(train_x, train_y)\n",
        "\n",
        "else:\n",
        "    print(\"No data available for the specified trip.\")\n",
        "\n",
        "predicted_price_going = regr.predict(np.array([[days_left_input]]))\n",
        "predicted_price_returning = regr.predict(np.array([[days_left_input]]))\n",
        "predicted_price_returning = predicted_price_going * lengthoftrip_input"
      ],
      "metadata": {
        "colab": {
          "base_uri": "https://localhost:8080/"
        },
        "id": "pigSCSzFVoIx",
        "outputId": "3212da9c-6206-430e-c45a-d79389198828"
      },
      "execution_count": 79,
      "outputs": [
        {
          "output_type": "stream",
          "name": "stdout",
          "text": [
            "      Unnamed: 0   airline   flight source_city departure_time stops  \\\n",
            "0          84065   AirAsia   I5-996   Bangalore        Evening  zero   \n",
            "1          84066   Vistara   UK-820   Bangalore        Evening  zero   \n",
            "2          84067   Vistara   UK-802   Bangalore        Evening  zero   \n",
            "3          84068    Indigo  6E-6139   Bangalore      Afternoon  zero   \n",
            "4          84069    Indigo  6E-2514   Bangalore        Evening  zero   \n",
            "...          ...       ...      ...         ...            ...   ...   \n",
            "1595       93975  GO_FIRST   G8-116   Bangalore  Early_Morning  zero   \n",
            "1596       93976    Indigo  6E-2186   Bangalore  Early_Morning  zero   \n",
            "1597       93977    Indigo  6E-5007   Bangalore          Night  zero   \n",
            "1598       93978  SpiceJet  SG-8906   Bangalore          Night  zero   \n",
            "1599       93979  SpiceJet   SG-198   Bangalore          Night  zero   \n",
            "\n",
            "     arrival_time destination_city    class  duration  days_left  price  \n",
            "0           Night            Delhi  Economy      2.83          1   7489  \n",
            "1           Night            Delhi  Economy      2.67          1   7489  \n",
            "2           Night            Delhi  Economy      2.75          1   7489  \n",
            "3         Evening            Delhi  Economy      2.75          1   7488  \n",
            "4         Evening            Delhi  Economy      2.83          1   7488  \n",
            "...           ...              ...      ...       ...        ...    ...  \n",
            "1595      Morning            Delhi  Economy      2.92         49   4500  \n",
            "1596      Morning            Delhi  Economy      2.92         49   4500  \n",
            "1597   Late_Night            Delhi  Economy      2.92         49   4500  \n",
            "1598   Late_Night            Delhi  Economy      2.92         49   4500  \n",
            "1599        Night            Delhi  Economy      3.00         49   4500  \n",
            "\n",
            "[1600 rows x 12 columns]\n"
          ]
        }
      ]
    },
    {
      "cell_type": "code",
      "source": [
        "plt.scatter(train.days_left, train.price, color='blue')\n",
        "# Predict prices\n",
        "predicted_prices = regr.predict(train_x)\n",
        "# Plot regression line\n",
        "plt.plot(train_x, predicted_prices, '-r')\n",
        "plt.xlabel(\"days_left\")\n",
        "plt.ylabel(\"price\")\n",
        "plt.show()"
      ],
      "metadata": {
        "id": "OXmTtQrwD9ri",
        "colab": {
          "base_uri": "https://localhost:8080/",
          "height": 450
        },
        "outputId": "f9313976-c032-477b-f780-c8d45308027e"
      },
      "execution_count": 80,
      "outputs": [
        {
          "output_type": "display_data",
          "data": {
            "text/plain": [
              "<Figure size 640x480 with 1 Axes>"
            ],
            "image/png": "[encoded data removed]"
          },
          "metadata": {}
        }
      ]
    },
    {
      "cell_type": "code",
      "source": [
        "if destination_city_input == 'Bangalore':\n",
        "    city = Bangalore\n",
        "elif destination_city_input == 'Chennai':\n",
        "    city = Chennai\n",
        "elif destination_city_input == 'Delhi':\n",
        "    city = Delhi\n",
        "elif destination_city_input == 'Hyderabad':\n",
        "    city = Hyderabad\n",
        "elif destination_city_input == 'Kolkata':\n",
        "    city = Kolkata\n",
        "elif destination_city_input == 'Mumbai':\n",
        "    city = Mumbai\n",
        "else:\n",
        "    print(\"City not found in the dataset.\")\n",
        "\n",
        "print(city)"
      ],
      "metadata": {
        "id": "D-ApbYsTYd75",
        "colab": {
          "base_uri": "https://localhost:8080/"
        },
        "outputId": "d73b9ce8-40a4-4a49-90a0-6999c815e377"
      },
      "execution_count": 81,
      "outputs": [
        {
          "output_type": "stream",
          "name": "stdout",
          "text": [
            "                                            Hotel Name  Rating  \\\n",
            "0        Country Inn and Suites by Radisson, Sahibabad     4.2   \n",
            "1                     Radisson Blu Kaushambi Delhi NCR     4.0   \n",
            "2                                            The Ashok     3.8   \n",
            "3                 Pride Plaza Hotel Aerocity New Delhi     4.0   \n",
            "4    Golden Tulip Vasundhara Hotel & Suites, Delhi NCR     3.9   \n",
            "..                                                 ...     ...   \n",
            "96                Caspia Hotel New Delhi Shalimar Bagh     3.4   \n",
            "97                  Park Inn by Radisson, Lajpat Nagar     4.1   \n",
            "98                                Jukaso Inn Down Town     3.6   \n",
            "99                                  Hotel LA New Delhi     3.6   \n",
            "100                   Kelvish Hotel Near Delhi Airport     3.9   \n",
            "\n",
            "    Rating Description  Reviews  Star Rating          Location  \\\n",
            "0            Very Good    15697          5.0     In Ghaziabad    \n",
            "1            Very Good     1826          5.0     In Ghaziabad    \n",
            "2            Very Good     5694          5.0     Chanakyapuri    \n",
            "3            Very Good     7275          5.0         Aerocity    \n",
            "4            Very Good     2057          4.0     In Ghaziabad    \n",
            "..                 ...      ...          ...               ...   \n",
            "96                Good     1725          3.0       North Delhi   \n",
            "97           Very Good     1856          4.0      Andrews Ganj   \n",
            "98           Very Good     1207          3.0  Connaught Place    \n",
            "99           Very Good     1764          4.0        Mangolpuri   \n",
            "100          Very Good     1337          3.0       Mahipalpur    \n",
            "\n",
            "                        Nearest Landmark Distance to Landmark  Price  Tax  \n",
            "0                      Delhi city centre             30.0 km   6,249  NaN  \n",
            "1                      Delhi city centre             28.0 km   5,039  605  \n",
            "2       T1 - Delhi Airport (IGI Airport)              9.8 km   6,288  NaN  \n",
            "3    Indira Gandhi International Airport              4.0 km   6,499  780  \n",
            "4                      Delhi city centre             31.0 km   3,386  871  \n",
            "..                                   ...                  ...    ...  ...  \n",
            "96                                   NaN                  NaN  2,799  572  \n",
            "97                                   NaN                  NaN  6,999  NaN  \n",
            "98                       Connaught Place               700 m   3,134  682  \n",
            "99                                   NaN                  NaN  3,438  702  \n",
            "100  Indira Gandhi International Airport              5.4 km   1,869  481  \n",
            "\n",
            "[101 rows x 10 columns]\n"
          ]
        }
      ]
    },
    {
      "cell_type": "code",
      "source": [
        "city.dropna(inplace=True)\n",
        "city['average'] = city[['Rating', 'Star Rating']].mean(axis=1)\n",
        "\n",
        "mskhotel = np.random.rand(len(city)) < 0.8\n",
        "trainhotel = city[mskhotel]\n",
        "testhotel = city[~mskhotel]\n",
        "# remove commas\n",
        "trainhotel['Price'] = trainhotel['Price'].str.replace(',', '').astype(float)\n",
        "testhotel['Price'] = testhotel['Price'].str.replace(',', '').astype(float)"
      ],
      "metadata": {
        "id": "Pes1T0pDN7b2"
      },
      "execution_count": 82,
      "outputs": []
    },
    {
      "cell_type": "code",
      "source": [
        "# detect and handle outliers\n",
        "def handle_outliers(data, threshold=3):\n",
        "    z_scores = (data - data.mean()) / data.std()\n",
        "    outliers = np.abs(z_scores) > threshold\n",
        "    data[outliers] = np.nan\n",
        "    data.fillna(data.median(), inplace=True)\n",
        "    return data\n",
        "\n",
        "# handle outliers in the training data\n",
        "trainhotel[['Rating', 'Star Rating', 'Price']] = handle_outliers(trainhotel[['Rating', 'Star Rating', 'Price']])\n",
        "\n",
        "# model\n",
        "regrhotel = linear_model.LinearRegression()\n",
        "x = np.asanyarray(trainhotel[['Rating', 'Star Rating']])\n",
        "y = np.asanyarray(trainhotel['Price'])\n",
        "regrhotel.fit(x, y)\n",
        "\n",
        "# predict using multiple linear regression\n",
        "y_hat = regrhotel.predict(np.asanyarray(testhotel[['Rating', 'Star Rating']]))\n",
        "\n",
        "#mse = np.mean((y_hat - testhotel['Price']) ** 2)\n",
        "rsquared = regrhotel.score(np.asanyarray(testhotel[['Rating', 'Star Rating']]), testhotel['Price'])\n",
        "print(\"Variance score (R-squared) - Linear Regression:\", rsquared)"
      ],
      "metadata": {
        "id": "x9G4heh0KDbb",
        "colab": {
          "base_uri": "https://localhost:8080/"
        },
        "outputId": "6f91d62b-191f-4a2e-87fd-2f6d825fe03b"
      },
      "execution_count": 83,
      "outputs": [
        {
          "output_type": "stream",
          "name": "stdout",
          "text": [
            "Variance score (R-squared) - Linear Regression: -0.23899631764432305\n"
          ]
        }
      ]
    },
    {
      "cell_type": "code",
      "source": [
        "def predict_price(rating, star_rating):\n",
        "    y_hat = regrhotel.predict([[rating, star_rating]])\n",
        "    return y_hat[0]\n",
        "\n",
        "predicted_price_hotel = predict_price(rating_input, star_rating_input)\n",
        "print(\"Predicted Price:\", predicted_price_hotel)\n",
        "predicted_fullprice_hotel = predicted_price_hotel * lengthoftrip_input"
      ],
      "metadata": {
        "id": "Zk80BADke8y_",
        "colab": {
          "base_uri": "https://localhost:8080/"
        },
        "outputId": "fd2a5bf1-4704-49bd-ac79-6f38850d3264"
      },
      "execution_count": 84,
      "outputs": [
        {
          "output_type": "stream",
          "name": "stdout",
          "text": [
            "Predicted Price: 4376.528947919942\n"
          ]
        }
      ]
    },
    {
      "cell_type": "code",
      "source": [
        "city.dropna(inplace=True)\n",
        "\n",
        "# process the distance column so it can be used\n",
        "def converted_distance(distance):\n",
        "    if isinstance(distance, str):\n",
        "        if 'km' in distance:\n",
        "            return float(distance.replace(' km', ''))\n",
        "        elif 'm' in distance:\n",
        "            return float(distance.replace(' m', '')) / 1000  # Convert meters to kilometers\n",
        "        else:\n",
        "            return float(distance)\n",
        "    else:\n",
        "        return distance\n",
        "\n",
        "city['Distance to Landmark'] = city['Distance to Landmark'].apply(converted_distance)\n",
        "\n",
        "features = city[['Rating', 'Star Rating']]\n",
        "target = city['Distance to Landmark']\n",
        "\n",
        "X_train, X_test, y_train, y_test = train_test_split(features, target, test_size=0.2, random_state=42)\n",
        "\n",
        "# model\n",
        "rf_regressor = RandomForestRegressor(n_estimators=100, random_state=42)\n",
        "rf_regressor.fit(X_train, y_train)\n",
        "\n",
        "y_pred = rf_regressor.predict(X_test)\n",
        "\n",
        "mse = mean_squared_error(y_test, y_pred)\n",
        "print(\"Mean Squared Error:\", mse)\n",
        "\n",
        "predicted_distance = rf_regressor.predict([[rating_input, star_rating_input]])\n",
        "\n",
        "print(\"Predicted distance to the landmark:\", predicted_distance[0])\n"
      ],
      "metadata": {
        "colab": {
          "base_uri": "https://localhost:8080/"
        },
        "id": "hTzQC6P9X8Oy",
        "outputId": "af846cc3-01ad-4636-c305-66f5c0c68863"
      },
      "execution_count": 85,
      "outputs": [
        {
          "output_type": "stream",
          "name": "stdout",
          "text": [
            "Mean Squared Error: 35.52519857041591\n",
            "Predicted distance to the landmark: 5.875333333333333\n"
          ]
        }
      ]
    },
    {
      "cell_type": "code",
      "source": [
        "cabfare.replace({'\\?': ''}, regex=True, inplace=True)\n",
        "\n",
        "# converting to float\n",
        "columns_to_convert = ['Taxi Start (Normal Tariff)', 'Taxi 1km (Normal Tariff)', 'Taxi 1hour waiting (Normal Tariff)']\n",
        "cabfare[columns_to_convert] = cabfare[columns_to_convert].astype(float)\n",
        "\n",
        "def calculate_taxi_fare(city, distance):\n",
        "    for index, row in cabfare.iterrows():\n",
        "        if row['City'] == city:\n",
        "            start_fare = float(row['Taxi Start (Normal Tariff)'])\n",
        "            per_km_fare = float(row['Taxi 1km (Normal Tariff)'])\n",
        "            fare = start_fare + (per_km_fare * distance)\n",
        "            return fare\n",
        "    return \"City not found in dataset\"\n",
        "\n",
        "fare = calculate_taxi_fare(destination_city_input, predicted_distance[0])\n",
        "print(fare)\n"
      ],
      "metadata": {
        "colab": {
          "base_uri": "https://localhost:8080/"
        },
        "id": "kiJnFKUtzNkz",
        "outputId": "c35c3066-5c69-4d25-9695-5aae4ba4f364"
      },
      "execution_count": 86,
      "outputs": [
        {
          "output_type": "stream",
          "name": "stdout",
          "text": [
            "196.88333333333333\n"
          ]
        }
      ]
    },
    {
      "cell_type": "code",
      "source": [
        "print(\"Price of flight while going: {:.2f}\".format(predicted_price_going[0]))\n",
        "print(\"Price of flight while returning: {:.2f}\".format(predicted_price_returning[0]))\n",
        "print(\"Price of hotel stay for {} nights: {:.2f}\".format(lengthoftrip_input, predicted_fullprice_hotel))\n",
        "total_fare = fare * 2\n",
        "print(\"Price of cabs(to and from the airport to hotel): {:.2f}\".format(total_fare))\n",
        "\n",
        "full_total_price = predicted_price_going[0] + predicted_price_returning[0] + predicted_fullprice_hotel + total_fare\n",
        "print(\"Total expense of the trip: {:.2f}\".format(full_total_price))"
      ],
      "metadata": {
        "colab": {
          "base_uri": "https://localhost:8080/"
        },
        "id": "F8ewjZhmARfK",
        "outputId": "65ef7731-e9e2-4a93-8e46-3a6654dea32d"
      },
      "execution_count": 88,
      "outputs": [
        {
          "output_type": "stream",
          "name": "stdout",
          "text": [
            "Price of flight while going: 7488.53\n",
            "Price of flight while returning: 22465.59\n",
            "Price of hotel stay for 3.0 nights: 13129.59\n",
            "Price of cabs(to and from the airport to hotel): 393.77\n",
            "Total expense of the trip: 43477.47\n"
          ]
        }
      ]
    }
  ]
}