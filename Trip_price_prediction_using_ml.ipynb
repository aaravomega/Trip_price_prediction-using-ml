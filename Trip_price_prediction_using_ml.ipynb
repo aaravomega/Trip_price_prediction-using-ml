{
  "nbformat": 4,
  "nbformat_minor": 0,
  "metadata": {
    "colab": {
      "provenance": [],
      "authorship_tag": "ABX9TyNHWMQ/4b7QA79WkJ+IoEgk",
      "include_colab_link": true
    },
    "kernelspec": {
      "name": "python3",
      "display_name": "Python 3"
    },
    "language_info": {
      "name": "python"
    }
  },
  "cells": [
    {
      "cell_type": "markdown",
      "metadata": {
        "id": "view-in-github",
        "colab_type": "text"
      },
      "source": [
        "<a href=\"https://colab.research.google.com/github/aaravomega/Trip_price_prediction-using-ml/blob/main/Trip_price_prediction_using_ml.ipynb\" target=\"_parent\"><img src=\"https://colab.research.google.com/assets/colab-badge.svg\" alt=\"Open In Colab\"/></a>"
      ]
    },
    {
      "cell_type": "code",
      "execution_count": 7,
      "metadata": {
        "id": "ZTZuuAcNPfvx"
      },
      "outputs": [],
      "source": [
        "import matplotlib.pyplot as plt\n",
        "import pandas as pd\n",
        "import pylab as pl\n",
        "import numpy as np\n",
        "%matplotlib inline\n",
        "from sklearn import linear_model\n",
        "from sklearn.ensemble import RandomForestRegressor\n",
        "import statsmodels.api as sm\n",
        "import pandas as pd\n",
        "from sklearn.model_selection import train_test_split\n",
        "from sklearn.metrics import mean_squared_error\n",
        "import warnings\n",
        "warnings.filterwarnings(\"ignore\")"
      ]
    },
    {
      "cell_type": "code",
      "source": [
        "# datasets of six major cities are there, other cities will be added in the future\n",
        "df = pd.read_csv(\"/content/Clean_Dataset.csv\")\n",
        "Bangalore = pd.read_csv(\"/content/bangalore.csv\")\n",
        "Chennai = pd.read_csv(\"/content/chennai.csv\")\n",
        "Delhi = pd.read_csv(\"/content/delhi.csv\")\n",
        "Hyderabad = pd.read_csv(\"/content/hyderabad.csv\")\n",
        "Kolkata = pd.read_csv(\"/content/kolkata.csv\")\n",
        "Mumbai = pd.read_csv(\"/content/mumbai.csv\")\n",
        "cabfare = pd.read_csv(\"/content/cabprice.csv\")\n",
        "print(\"number of rows and columns in the flight dataset\",df.shape)"
      ],
      "metadata": {
        "id": "i6aMYmm_RDtj",
        "colab": {
          "base_uri": "https://localhost:8080/"
        },
        "outputId": "0a69e920-40ce-4fe7-dbee-3129429aa2f5"
      },
      "execution_count": 8,
      "outputs": [
        {
          "output_type": "stream",
          "name": "stdout",
          "text": [
            "number of rows and columns in the flight dataset (300153, 12)\n"
          ]
        }
      ]
    },
    {
      "cell_type": "code",
      "source": [
        "#Extracting relevant rows\n",
        "df = df[df['stops'] == 'zero']\n",
        "df = df[df['class'] == 'Economy']\n",
        "\n",
        "df.reset_index(drop=True, inplace=True)\n",
        "cdf = df[['source_city','departure_time','arrival_time','destination_city','days_left','price']]"
      ],
      "metadata": {
        "id": "xa-iP2VUSOoS"
      },
      "execution_count": 9,
      "outputs": []
    },
    {
      "cell_type": "code",
      "source": [
        "#Creating a dataframe for each unique trip\n",
        "unique_combinations = df[['source_city', 'destination_city']].drop_duplicates()\n",
        "\n",
        "trip_dataframes = {}\n",
        "\n",
        "for index, row in unique_combinations.iterrows():\n",
        "    source_city = row['source_city']\n",
        "    destination_city = row['destination_city']\n",
        "\n",
        "    trip_df = df[(df['source_city'] == source_city) & (df['destination_city'] == destination_city)].copy()\n",
        "\n",
        "    trip_df.reset_index(drop=True, inplace=True)\n",
        "\n",
        "    trip_key = f\"{source_city}_to_{destination_city}\"\n",
        "    trip_dataframes[trip_key] = trip_df\n",
        "\n",
        "# trip_delhi_to_mumbai = trip_dataframes['Delhi_to_Mumbai']"
      ],
      "metadata": {
        "id": "JnP3A1pxTqhP"
      },
      "execution_count": 10,
      "outputs": []
    },
    {
      "cell_type": "code",
      "source": [
        "#inputs from user\n",
        "\n",
        "source_city_input = input(\"Enter the source city: \").lower().capitalize()\n",
        "destination_city_input = input(\"Enter the destination city: \").lower().capitalize()\n",
        "days_left_input = float(input(\"Enter the number of days till the start date of your trip:\"))\n",
        "rating_input = float(input(\"Enter the number of stars you want your hotel to be:\"))\n",
        "star_rating_input = float(input(\"Enter the minimum user rating you want your hotel to have(0-5):\"))\n",
        "lengthoftrip_input = float(input(\"Enter the number of days the trip will last for:\"))"
      ],
      "metadata": {
        "colab": {
          "base_uri": "https://localhost:8080/"
        },
        "id": "pPE1weqS72i4",
        "outputId": "2208d830-f3b3-42e0-c4e7-caaa60e69ffb"
      },
      "execution_count": 11,
      "outputs": [
        {
          "name": "stdout",
          "output_type": "stream",
          "text": [
            "Enter the source city: Delhi\n",
            "Enter the destination city: Bangalore\n",
            "Enter the number of days till the start date of your trip:9\n",
            "Enter the number of stars you want your hotel to be:3\n",
            "Enter the minimum user rating you want your hotel to have(0-5):4\n",
            "Enter the number of days the trip will last for:4\n"
          ]
        }
      ]
    },
    {
      "cell_type": "code",
      "source": [
        "trip_key_input = f\"{source_city_input}_to_{destination_city_input}\"\n",
        "\n",
        "if trip_key_input in trip_dataframes:\n",
        "    print(trip_dataframes[trip_key_input])\n",
        "    ccdf = trip_dataframes[trip_key_input]\n",
        "    msk = np.random.rand(len(ccdf)) < 0.8\n",
        "    train = ccdf[msk]\n",
        "    test = ccdf[~msk]\n",
        "\n",
        "    regr = RandomForestRegressor()\n",
        "\n",
        "    # Train the model\n",
        "    train_x = np.asanyarray(train[['days_left']])\n",
        "    train_y = np.asanyarray(train[['price']])\n",
        "    regr.fit(train_x, train_y)\n",
        "\n",
        "else:\n",
        "    print(\"No data available for the specified trip.\")\n",
        "\n",
        "days_tillend = days_left_input + lengthoftrip_input\n",
        "predicted_price_going = regr.predict(np.array([[days_left_input]]))\n",
        "predicted_price_returning = regr.predict(np.array([[days_tillend]]))"
      ],
      "metadata": {
        "colab": {
          "base_uri": "https://localhost:8080/"
        },
        "id": "pigSCSzFVoIx",
        "outputId": "320f15e6-c4a0-4f6d-98a6-52a5ddaabaeb"
      },
      "execution_count": 12,
      "outputs": [
        {
          "output_type": "stream",
          "name": "stdout",
          "text": [
            "      Unnamed: 0   airline   flight source_city departure_time stops  \\\n",
            "0           9982  SpiceJet   SG-191       Delhi  Early_Morning  zero   \n",
            "1           9983   AirAsia  I5-1529       Delhi        Morning  zero   \n",
            "2           9984   Vistara   UK-815       Delhi        Morning  zero   \n",
            "3           9985   Vistara   UK-801       Delhi        Morning  zero   \n",
            "4           9986   Vistara   UK-819       Delhi      Afternoon  zero   \n",
            "...          ...       ...      ...         ...            ...   ...   \n",
            "1590       20066    Indigo   6E-654       Delhi        Evening  zero   \n",
            "1591       20067    Indigo  6E-2015       Delhi        Evening  zero   \n",
            "1592       20068  SpiceJet   SG-197       Delhi        Evening  zero   \n",
            "1593       20069  GO_FIRST   G8-113       Delhi  Early_Morning  zero   \n",
            "1594       20070  GO_FIRST   G8-119       Delhi          Night  zero   \n",
            "\n",
            "     arrival_time destination_city    class  duration  days_left  price  \n",
            "0         Morning        Bangalore  Economy      2.50          1   7425  \n",
            "1       Afternoon        Bangalore  Economy      2.83          1   7426  \n",
            "2         Morning        Bangalore  Economy      2.75          1   7425  \n",
            "3         Morning        Bangalore  Economy      2.75          1   7425  \n",
            "4         Evening        Bangalore  Economy      2.75          1   7425  \n",
            "...           ...              ...      ...       ...        ...    ...  \n",
            "1590        Night        Bangalore  Economy      2.92         49   4500  \n",
            "1591        Night        Bangalore  Economy      2.92         49   4500  \n",
            "1592      Evening        Bangalore  Economy      3.17         49   4500  \n",
            "1593      Morning        Bangalore  Economy      2.75         49   4501  \n",
            "1594        Night        Bangalore  Economy      2.92         49   4501  \n",
            "\n",
            "[1595 rows x 12 columns]\n"
          ]
        }
      ]
    },
    {
      "cell_type": "code",
      "source": [
        "plt.scatter(train.days_left, train.price, color='blue')\n",
        "# Predict prices\n",
        "predicted_prices = regr.predict(train_x)\n",
        "# Plot regression line\n",
        "plt.plot(train_x, predicted_prices, '-r')\n",
        "plt.xlabel(\"days_left\")\n",
        "plt.ylabel(\"price\")\n",
        "plt.show()"
      ],
      "metadata": {
        "id": "OXmTtQrwD9ri",
        "colab": {
          "base_uri": "https://localhost:8080/",
          "height": 450
        },
        "outputId": "0e10aceb-e8f3-472c-962d-9479eb57e596"
      },
      "execution_count": 13,
      "outputs": [
        {
          "output_type": "display_data",
          "data": {
            "text/plain": [
              "<Figure size 640x480 with 1 Axes>"
            ],
            "image/png": "[encoded data removed]"
          },
          "metadata": {}
        }
      ]
    },
    {
      "cell_type": "code",
      "source": [
        "if destination_city_input == 'Bangalore':\n",
        "    city = Bangalore\n",
        "elif destination_city_input == 'Chennai':\n",
        "    city = Chennai\n",
        "elif destination_city_input == 'Delhi':\n",
        "    city = Delhi\n",
        "elif destination_city_input == 'Hyderabad':\n",
        "    city = Hyderabad\n",
        "elif destination_city_input == 'Kolkata':\n",
        "    city = Kolkata\n",
        "elif destination_city_input == 'Mumbai':\n",
        "    city = Mumbai\n",
        "else:\n",
        "    print(\"City not found in the dataset.\")\n",
        "\n",
        "print(city)"
      ],
      "metadata": {
        "id": "D-ApbYsTYd75",
        "colab": {
          "base_uri": "https://localhost:8080/"
        },
        "outputId": "ba101306-8fb1-47f7-d448-debd231d2964"
      },
      "execution_count": 14,
      "outputs": [
        {
          "output_type": "stream",
          "name": "stdout",
          "text": [
            "                                            Hotel Name  Rating  \\\n",
            "0                                   The Park Bangalore     3.9   \n",
            "1    Keys Select by Lemon Tree Hotels, Whitefield, ...     4.0   \n",
            "2              ITC Windsor - A Luxury Collection Hotel     4.4   \n",
            "3             Lemon Tree Premier Ulsoor Lake Bangalore     4.0   \n",
            "4    Keys Select by Lemon Tree Hotels, Hosur Road, ...     4.0   \n",
            "..                                                 ...     ...   \n",
            "96                 Shravanthi Sarovar Portico JP Nagar     3.6   \n",
            "97                       Vivanta Bengaluru, Whitefield     4.3   \n",
            "98                          Melange Astris\\r\\nLike a 3     4.1   \n",
            "99                                   Octave Church Inn     3.5   \n",
            "100                         Mastiff Infantry Bengaluru     4.0   \n",
            "\n",
            "    Rating Description  Reviews  Star Rating              Location  \\\n",
            "0            Very Good   4187.0          5.0                Ulsoor   \n",
            "1            Very Good   2201.0          4.0           Brookefield   \n",
            "2            Excellent   1315.0          5.0        Vasanth Nagar    \n",
            "3            Very Good   5089.0          5.0  Sivanchetti Gardens    \n",
            "4            Very Good   3290.0          4.0            Hosur road   \n",
            "..                 ...      ...          ...                   ...   \n",
            "96           Very Good    139.0          4.0       Outer Ring Road   \n",
            "97           Excellent    959.0          5.0            Whitefield   \n",
            "98           Very Good   1006.0          NaN        Richmond road    \n",
            "99           Very Good    712.0          3.0        Church Street    \n",
            "100          Very Good    221.0          3.0        Infantry Road    \n",
            "\n",
            "     Nearest Landmark Distance to Landmark  Price    Tax  \n",
            "0                 NaN                  NaN  7,567  2,254  \n",
            "1                 NaN                  NaN  1,509    531  \n",
            "2    Bangalore Palace              2.4 km   9,900    NaN  \n",
            "3         Ulsoor Lake               770 m   2,347    918  \n",
            "4                 NaN                  NaN  2,522  1,014  \n",
            "..                ...                  ...    ...    ...  \n",
            "96                NaN                  NaN  3,977    804  \n",
            "97                NaN                  NaN  7,500    NaN  \n",
            "98        Cubbon Park              2.5 km   4,300    969  \n",
            "99            MG Road                94 m   1,669    337  \n",
            "100           MG Road              1.8 km   1,865    569  \n",
            "\n",
            "[101 rows x 10 columns]\n"
          ]
        }
      ]
    },
    {
      "cell_type": "code",
      "source": [
        "city.dropna(inplace=True)\n",
        "city['average'] = city[['Rating', 'Star Rating']].mean(axis=1)\n",
        "\n",
        "mskhotel = np.random.rand(len(city)) < 0.8\n",
        "trainhotel = city[mskhotel]\n",
        "testhotel = city[~mskhotel]\n",
        "# remove commas\n",
        "trainhotel['Price'] = trainhotel['Price'].str.replace(',', '').astype(float)\n",
        "testhotel['Price'] = testhotel['Price'].str.replace(',', '').astype(float)"
      ],
      "metadata": {
        "id": "Pes1T0pDN7b2"
      },
      "execution_count": 15,
      "outputs": []
    },
    {
      "cell_type": "code",
      "source": [
        "# detect and handle outliers\n",
        "def handle_outliers(data, threshold=3):\n",
        "    z_scores = (data - data.mean()) / data.std()\n",
        "    outliers = np.abs(z_scores) > threshold\n",
        "    data[outliers] = np.nan\n",
        "    data.fillna(data.median(), inplace=True)\n",
        "    return data\n",
        "\n",
        "# handle outliers in the training data\n",
        "trainhotel[['Rating', 'Star Rating', 'Price']] = handle_outliers(trainhotel[['Rating', 'Star Rating', 'Price']])\n",
        "\n",
        "# model\n",
        "regrhotel = linear_model.LinearRegression()\n",
        "x = np.asanyarray(trainhotel[['Rating', 'Star Rating']])\n",
        "y = np.asanyarray(trainhotel['Price'])\n",
        "regrhotel.fit(x, y)\n",
        "\n",
        "# predict using multiple linear regression\n",
        "y_hat = regrhotel.predict(np.asanyarray(testhotel[['Rating', 'Star Rating']]))\n",
        "\n",
        "#mse = np.mean((y_hat - testhotel['Price']) ** 2)\n",
        "rsquared = regrhotel.score(np.asanyarray(testhotel[['Rating', 'Star Rating']]), testhotel['Price'])\n",
        "print(\"Variance score (R-squared) - Linear Regression:\", rsquared)"
      ],
      "metadata": {
        "id": "x9G4heh0KDbb",
        "colab": {
          "base_uri": "https://localhost:8080/"
        },
        "outputId": "aa390e58-ff27-4c06-b546-44dbcd7377a9"
      },
      "execution_count": 16,
      "outputs": [
        {
          "output_type": "stream",
          "name": "stdout",
          "text": [
            "Variance score (R-squared) - Linear Regression: -4.394945486827183\n"
          ]
        }
      ]
    },
    {
      "cell_type": "code",
      "source": [
        "def predict_price(rating, star_rating):\n",
        "    y_hat = regrhotel.predict([[rating, star_rating]])\n",
        "    return y_hat[0]\n",
        "\n",
        "predicted_price_hotel = predict_price(rating_input, star_rating_input)\n",
        "print(\"Predicted Price:\", predicted_price_hotel)\n",
        "predicted_fullprice_hotel = predicted_price_hotel * lengthoftrip_input"
      ],
      "metadata": {
        "id": "Zk80BADke8y_",
        "colab": {
          "base_uri": "https://localhost:8080/"
        },
        "outputId": "013532fb-956d-4c3d-f175-2365c082a34e"
      },
      "execution_count": 17,
      "outputs": [
        {
          "output_type": "stream",
          "name": "stdout",
          "text": [
            "Predicted Price: 7625.451035781548\n"
          ]
        }
      ]
    },
    {
      "cell_type": "code",
      "source": [
        "city.dropna(inplace=True)\n",
        "\n",
        "# process the distance column so it can be used\n",
        "def converted_distance(distance):\n",
        "    if isinstance(distance, str):\n",
        "        if 'km' in distance:\n",
        "            return float(distance.replace(' km', ''))\n",
        "        elif 'm' in distance:\n",
        "            return float(distance.replace(' m', '')) / 1000  # Convert meters to kilometers\n",
        "        else:\n",
        "            return float(distance)\n",
        "    else:\n",
        "        return distance\n",
        "\n",
        "city['Distance to Landmark'] = city['Distance to Landmark'].apply(converted_distance)\n",
        "\n",
        "features = city[['Rating', 'Star Rating']]\n",
        "target = city['Distance to Landmark']\n",
        "\n",
        "X_train, X_test, y_train, y_test = train_test_split(features, target, test_size=0.2, random_state=42)\n",
        "\n",
        "# model\n",
        "rf_regressor = RandomForestRegressor(n_estimators=100, random_state=42)\n",
        "rf_regressor.fit(X_train, y_train)\n",
        "\n",
        "y_pred = rf_regressor.predict(X_test)\n",
        "\n",
        "mse = mean_squared_error(y_test, y_pred)\n",
        "print(\"Mean Squared Error:\", mse)\n",
        "\n",
        "predicted_distance = rf_regressor.predict([[rating_input, star_rating_input]])\n",
        "\n",
        "print(\"Predicted distance to the landmark:\", predicted_distance[0])\n"
      ],
      "metadata": {
        "colab": {
          "base_uri": "https://localhost:8080/"
        },
        "id": "hTzQC6P9X8Oy",
        "outputId": "cf35782b-9537-4a19-d1d8-d70e523bbbc4"
      },
      "execution_count": 18,
      "outputs": [
        {
          "output_type": "stream",
          "name": "stdout",
          "text": [
            "Mean Squared Error: 0.38527837143680643\n",
            "Predicted distance to the landmark: 1.6814199999999988\n"
          ]
        }
      ]
    },
    {
      "cell_type": "code",
      "source": [
        "cabfare.replace({'\\?': ''}, regex=True, inplace=True)\n",
        "\n",
        "# converting to float\n",
        "columns_to_convert = ['Taxi Start (Normal Tariff)', 'Taxi 1km (Normal Tariff)', 'Taxi 1hour waiting (Normal Tariff)']\n",
        "cabfare[columns_to_convert] = cabfare[columns_to_convert].astype(float)\n",
        "\n",
        "def calculate_taxi_fare(city, distance):\n",
        "    for index, row in cabfare.iterrows():\n",
        "        if row['City'] == city:\n",
        "            start_fare = float(row['Taxi Start (Normal Tariff)'])\n",
        "            per_km_fare = float(row['Taxi 1km (Normal Tariff)'])\n",
        "            fare = start_fare + (per_km_fare * distance)\n",
        "            return fare\n",
        "    return \"City not found in dataset\"\n",
        "\n",
        "fare = calculate_taxi_fare(destination_city_input, predicted_distance[0])\n",
        "print(fare)\n"
      ],
      "metadata": {
        "colab": {
          "base_uri": "https://localhost:8080/"
        },
        "id": "kiJnFKUtzNkz",
        "outputId": "e73df5b8-eca5-4d18-a9f2-48378f520bc7"
      },
      "execution_count": 19,
      "outputs": [
        {
          "output_type": "stream",
          "name": "stdout",
          "text": [
            "150.44259999999997\n"
          ]
        }
      ]
    },
    {
      "cell_type": "code",
      "source": [
        "print(\"Price of flight while going: {:.2f}\".format(predicted_price_going[0]))\n",
        "print(\"Price of flight while returning: {:.2f}\".format(predicted_price_returning[0]))\n",
        "print(\"Price of hotel stay for {} nights: {:.2f}\".format(lengthoftrip_input, predicted_fullprice_hotel))\n",
        "total_fare = fare * 2\n",
        "print(\"Price of cabs(to and from the airport to hotel): {:.2f}\".format(total_fare))\n",
        "\n",
        "full_total_price = predicted_price_going[0] + predicted_price_returning[0] + predicted_fullprice_hotel + total_fare\n",
        "print(\"Total expense of the trip: {:.2f}\".format(full_total_price))"
      ],
      "metadata": {
        "colab": {
          "base_uri": "https://localhost:8080/"
        },
        "id": "F8ewjZhmARfK",
        "outputId": "8deb8648-18f4-4ed6-b11e-9746df3cb7fc"
      },
      "execution_count": 20,
      "outputs": [
        {
          "output_type": "stream",
          "name": "stdout",
          "text": [
            "Price of flight while going: 7940.88\n",
            "Price of flight while returning: 7623.84\n",
            "Price of hotel stay for 4.0 nights: 30501.80\n",
            "Price of cabs(to and from the airport to hotel): 300.89\n",
            "Total expense of the trip: 46367.40\n"
          ]
        }
      ]
    }
  ]
}